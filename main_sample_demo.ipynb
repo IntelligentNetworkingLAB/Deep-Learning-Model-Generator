{
 "cells": [
  {
   "cell_type": "code",
   "execution_count": 1,
   "metadata": {},
   "outputs": [
    {
     "name": "stderr",
     "output_type": "stream",
     "text": [
      "Using TensorFlow backend.\n"
     ]
    }
   ],
   "source": [
    "import numpy as np\n",
    "import pandas as pd\n",
    "import itertools\n",
    "import re\n",
    "import os\n",
    "import difflib\n",
    "import random\n",
    "import requests\n",
    "import ipywidgets as widgets\n",
    "import matplotlib.pyplot as plt\n",
    "import seaborn as sns\n",
    "\n",
    "import pre_process\n",
    "import model_dict\n",
    "import rl_model_search"
   ]
  },
  {
   "cell_type": "code",
   "execution_count": 2,
   "metadata": {},
   "outputs": [],
   "source": [
    "from math import sqrt\n",
    "from numpy import split\n",
    "from numpy import array\n",
    "from pandas import read_csv\n",
    "from sklearn.metrics import mean_squared_error\n",
    "from matplotlib import pyplot\n",
    "from keras.models import Sequential\n",
    "from keras.layers import Dense\n",
    "from keras.layers import Flatten\n",
    "from keras.layers import LSTM\n",
    "from keras.layers import RepeatVector\n",
    "from keras.layers import TimeDistributed\n",
    "from keras.layers.convolutional import Conv1D\n",
    "from keras.layers.convolutional import MaxPooling1D"
   ]
  },
  {
   "cell_type": "code",
   "execution_count": 3,
   "metadata": {},
   "outputs": [],
   "source": [
    "def multi_checkbox_widget(descriptions):\n",
    "    \"\"\" Widget with a search field and lots of checkboxes \"\"\"\n",
    "#     search_widget = widgets.Text()\n",
    "    options_dict = {description: widgets.Checkbox(description=description, value=False) for description in descriptions}\n",
    "    options = [options_dict[description] for description in descriptions]\n",
    "    options_widget = widgets.VBox(options, layout={'overflow': 'scroll'})\n",
    "    multi_select = widgets.VBox([options_widget])\n",
    "    \n",
    "    return multi_select\n",
    "\n",
    "def get_features_list(features_tmp):\n",
    "    arr = []\n",
    "    for i in range(len(features_tmp.children[0].children)):\n",
    "        if features_tmp.children[0].children[i].value == True:\n",
    "            description = features_tmp.children[0].children[i].description\n",
    "            arr.append(description)\n",
    "    return arr"
   ]
  },
  {
   "cell_type": "code",
   "execution_count": 4,
   "metadata": {},
   "outputs": [],
   "source": [
    "#load Data sample data\n",
    "df_data = pd.read_csv('dataset/2015.csv').head()"
   ]
  },
  {
   "cell_type": "code",
   "execution_count": 5,
   "metadata": {
    "scrolled": true
   },
   "outputs": [
    {
     "data": {
      "application/vnd.jupyter.widget-view+json": {
       "model_id": "867cc73274644d539aa25af3ced07640",
       "version_major": 2,
       "version_minor": 0
      },
      "text/html": [
       "<p>Failed to display Jupyter Widget of type <code>Box</code>.</p>\n",
       "<p>\n",
       "  If you're reading this message in the Jupyter Notebook or JupyterLab Notebook, it may mean\n",
       "  that the widgets JavaScript is still loading. If this message persists, it\n",
       "  likely means that the widgets JavaScript library is either not installed or\n",
       "  not enabled. See the <a href=\"https://ipywidgets.readthedocs.io/en/stable/user_install.html\">Jupyter\n",
       "  Widgets Documentation</a> for setup instructions.\n",
       "</p>\n",
       "<p>\n",
       "  If you're reading this message in another frontend (for example, a static\n",
       "  rendering on GitHub or <a href=\"https://nbviewer.jupyter.org/\">NBViewer</a>),\n",
       "  it may mean that your frontend doesn't currently support widgets.\n",
       "</p>\n"
      ],
      "text/plain": [
       "Box(children=(Box(children=(Label(value='Choose multiple input features'), VBox(children=(VBox(children=(Checkbox(value=False, description='group'), Checkbox(value=False, description='month'), Checkbox(value=False, description='weekday'), Checkbox(value=False, description='day'), Checkbox(value=False, description='dayofyear'), Checkbox(value=False, description='holiday'), Checkbox(value=False, description='movieId'), Checkbox(value=False, description='20'), Checkbox(value=False, description='userId'), Checkbox(value=False, description='pct'), Checkbox(value=False, description='20_label')), layout=Layout(overflow='scroll')),))), layout=Layout(display='flex', flex_flow='flex-wrap')), Box(children=(Label(value='Choose one target'), VBox(children=(VBox(children=(Checkbox(value=False, description='group'), Checkbox(value=False, description='month'), Checkbox(value=False, description='weekday'), Checkbox(value=False, description='day'), Checkbox(value=False, description='dayofyear'), Checkbox(value=False, description='holiday'), Checkbox(value=False, description='movieId'), Checkbox(value=False, description='20'), Checkbox(value=False, description='userId'), Checkbox(value=False, description='pct'), Checkbox(value=False, description='20_label')), layout=Layout(overflow='scroll')),))), layout=Layout(display='flex', flex_flow='flex-wrap')), Box(children=(Label(value='Choose Model'), VBox(children=(VBox(children=(Checkbox(value=False, description='LSTM'), Checkbox(value=False, description='CNN'), Checkbox(value=False, description='CLSTM')), layout=Layout(overflow='scroll')),))), layout=Layout(display='flex', flex_flow='flex-wrap'))), layout=Layout(border='solid 2px', display='flex', flex_flow='flex-wrap'))"
      ]
     },
     "metadata": {},
     "output_type": "display_data"
    }
   ],
   "source": [
    "\n",
    "from ipywidgets import Layout, Button, Box, FloatText, Textarea, Dropdown, Label, IntSlider\n",
    "features = multi_checkbox_widget(df_data.columns)\n",
    "target = multi_checkbox_widget(df_data.columns)\n",
    "model_l = multi_checkbox_widget(['LSTM','CNN','CLSTM'])\n",
    "\n",
    "form_item_layout = Layout(\n",
    "    display='flex',\n",
    "    flex_flow='flex-wrap',\n",
    ")\n",
    "\n",
    "form_items = [\n",
    "    Box([Label(value='Choose multiple input features'), features], layout=form_item_layout),\n",
    "    Box([Label(value='Choose one target'), target], layout=form_item_layout),\n",
    "    Box([Label(value='Choose Model'), model_l], layout=form_item_layout),\n",
    "    \n",
    "]\n",
    "\n",
    "form = Box(form_items, layout=Layout(\n",
    "    display='flex',\n",
    "    flex_flow='flex-wrap',\n",
    "    border='solid 2px',\n",
    "\n",
    "))\n",
    "\n",
    "form"
   ]
  },
  {
   "cell_type": "markdown",
   "metadata": {},
   "source": [
    "# Example of model searching and selection"
   ]
  },
  {
   "cell_type": "code",
   "execution_count": 39,
   "metadata": {},
   "outputs": [],
   "source": [
    "#Deep Learning models related parameters\n",
    "features_cols = get_features_list(features)\n",
    "target_label = get_features_list(target)\n",
    "model_list = get_features_list(model_l)\n",
    "#defining activation function and loss function\n",
    "output_act ='relu'\n",
    "loss_fun = 'mse'\n",
    "metrics = ['loss']\n",
    "\n",
    "#defining input and output shape\n",
    "window_size = 3\n",
    "num_neighbors = 1\n",
    "input_shape = [window_size,len(features_cols)*num_neighbors]\n",
    "output_shape = 1\n",
    "\n",
    "#dataset related parameters\n",
    "find_mem_from = 'group'\n",
    "find_mem_basedon = '20'\n",
    "sequence_by  = 'dayofyear'\n",
    "\n",
    "#search space prameters\n",
    "max_layers = 20\n",
    "min_layers = 1\n",
    "max_cells = 200\n",
    "min_cells = 10\n",
    "layer_step_size = 1\n",
    "cell_step_size = 1\n",
    "\n",
    "#q_learning prameters\n",
    "alpha = 1.0\n",
    "gamma = 1.0\n",
    "\n",
    "#simulation parameters\n",
    "N_MODELS = 30 # number of models to search\n",
    "MIN_ALPHA = 0.01\n",
    "threshold = np.linspace(1.0, MIN_ALPHA, N_MODELS) #threshold for explore and exploite\n",
    "callbacks = []\n",
    "\n",
    "#training related parameters\n",
    "verbose, nr_epochs, batch_size = 0, 70, 500\n",
    "\n",
    "#creating training dataset\n",
    "x_train = []\n",
    "y_train = []\n",
    "data_set = ['2015']    \n",
    "num_xsamples = 0\n",
    "num_ysamples = 0\n",
    "for data in data_set:\n",
    "    df_data = pd.read_csv('dataset/'+data+'.csv')\n",
    "    df_data = df_data[df_data[sequence_by].isin(np.arange(2,100))]\n",
    "    x_train_tmp, y_train_tmp = pre_process.get_train_data(df_data,find_mem_from,find_mem_basedon,sequence_by,window_size,num_neighbors,features_cols,target_label)\n",
    "    \n",
    "    x_train.append(x_train_tmp)\n",
    "    y_train.append(y_train_tmp)\n",
    "    \n",
    "for i in range(len(x_train)):\n",
    "    num_xsamples += len(x_train[i])\n",
    "    num_ysamples += len(y_train[i])\n",
    "\n",
    "x_train = np.reshape(x_train,(num_xsamples,window_size,len(features_cols)*num_neighbors))\n",
    "y_train = np.reshape(y_train,(num_ysamples,1))\n",
    "\n",
    "#creating validating dataset\n",
    "df_data = pd.read_csv('dataset/2016.csv')\n",
    "df_data = df_data[df_data[sequence_by].isin(np.arange(2,100))]\n",
    "x_val, y_val = pre_process.get_train_data(df_data,find_mem_from,find_mem_basedon,sequence_by,window_size,num_neighbors,features_cols,target_label)\n"
   ]
  },
  {
   "cell_type": "code",
   "execution_count": 40,
   "metadata": {
    "scrolled": true
   },
   "outputs": [
    {
     "name": "stdout",
     "output_type": "stream",
     "text": [
      "explore 0\n",
      "explore 1\n",
      "explore 2\n",
      "explore 3\n",
      "explore 4\n",
      "exploite 5\n"
     ]
    },
    {
     "name": "stderr",
     "output_type": "stream",
     "text": [
      "/home/kt/PycharmProjects/rl_ml_proto/rl_model_search.py:111: UserWarning: Boolean Series key will be reindexed to match DataFrame index.\n",
      "  config_type = config_type[config_tab['q'] == config_type['q'].min()]\n"
     ]
    },
    {
     "name": "stdout",
     "output_type": "stream",
     "text": [
      "explore 6\n",
      "explore 7\n",
      "explore 8\n",
      "explore 9\n",
      "exploite 10\n",
      "explore 11\n",
      "explore 12\n",
      "exploite 13\n",
      "exploite 14\n",
      "exploite 15\n",
      "exploite 16\n",
      "exploite 17\n",
      "exploite 18\n",
      "exploite 19\n",
      "explore 20\n",
      "exploite 21\n",
      "exploite 22\n",
      "exploite 23\n",
      "exploite 24\n",
      "exploite 25\n",
      "exploite 26\n",
      "exploite 27\n",
      "exploite 28\n",
      "exploite 29\n"
     ]
    }
   ],
   "source": [
    "window_list = [3]\n",
    "sort_value_by = '20'\n",
    "problem = 'demo'\n",
    "explore = 0\n",
    "\n",
    "for window_size in window_list:\n",
    "    #create q_table\n",
    "    model_tab = pd.DataFrame({'model_type':[],'q':[]})\n",
    "    layer_tab = pd.DataFrame({'model_type':[],'layer_type':[],'q':[]})\n",
    "    config_tab = pd.DataFrame({'model_type':[],'layer_type':[],'config_type':[],'q':[]})\n",
    "\n",
    "    model_tab_log = pd.DataFrame({'model_type':[],'q':[]})\n",
    "    layer_tab_log = pd.DataFrame({'model_type':[],'layer_type':[],'q':[]})\n",
    "    config_tab_log = pd.DataFrame({'model_type':[],'layer_type':[],'config_type':[],'q':[]})\n",
    "    \n",
    "    his = pd.DataFrame()\n",
    "    #generate model_info to create search space\n",
    "    model_info = rl_model_search.gen_com_model(model_list,max_layers,layer_step_size)\n",
    "\n",
    "    #stat collector\n",
    "    his_log_save = 'his/'+problem+'/'\n",
    "    emdf_save = his_log_save+'em_log'+str(window_size)+str(num_neighbors)+'.csv'\n",
    "    \n",
    "    \n",
    "\n",
    "    for i in range(N_MODELS):\n",
    "\n",
    "        ##### RL based model search    \n",
    "        if np.random.uniform(0,1)< threshold[i]:\n",
    "            print('explore',i)\n",
    "            #Explore model configuration\n",
    "            model_config, model_info, model_tab,layer_tab,config_tab = rl_model_search.exploration(model_info,model_tab,layer_tab,config_tab,min_cells,max_cells,cell_step_size)  \n",
    "            explore = 0\n",
    "        else:\n",
    "            #exploitation\n",
    "            print('exploite',i)\n",
    "            model_config, model_tab,layer_tab,config_tab = rl_model_search.exploitation(model_tab,layer_tab,config_tab,min_cells,max_cells,cell_step_size)\n",
    "            explore = 1\n",
    "            \n",
    "        #Get configuration\n",
    "        model_type = model_config['model'].values[0]\n",
    "        layer_type = model_config['layer'].values[0]\n",
    "        config_type = model_config['config'].values[0]\n",
    "\n",
    "        if not os.path.exists(his_log_save):\n",
    "            os.makedirs(his_log_save)\n",
    "        \n",
    "\n",
    "\n",
    "        #Training and validation process\n",
    "        model = model_dict.get_explored_prediction_model(input_shape, output_shape, model_config, output_act, loss_fun, metrics=['loss'])\n",
    "\n",
    "    \n",
    "        time_callback = model_dict.TimeHistory()\n",
    "        history = model.fit(x_train, y_train,\n",
    "                        epochs=nr_epochs, batch_size=batch_size,\n",
    "                        validation_data=(x_val, y_val),\n",
    "                        verbose=verbose,\n",
    "                        callbacks=[time_callback])\n",
    "        \n",
    "        each_mdf = pd.DataFrame(history.history)  \n",
    "        each_mdf[0]=str(model_config[0])\n",
    "        each_mdf[1] = str(model_config[1])\n",
    "        if model_type == 'CLSTM':\n",
    "            each_mdf[2] = str(model_config[2])\n",
    "        else:\n",
    "            each_mdf[2] = 'nan'\n",
    "            model_config[2] = 0\n",
    "        each_mdf['model_type']= model_type\n",
    "        each_mdf['layer_type']= layer_type\n",
    "        each_mdf['config_type'] = config_type\n",
    "        each_mdf['tslot'] = window_size\n",
    "        each_mdf['dimen'] = num_neighbors\n",
    "        each_mdf['time'] = time_callback.times\n",
    "        each_mdf['exp'] = explore\n",
    "        \n",
    "\n",
    "        cols = [0,1,2,'acc','loss','val_acc','val_loss','model_type','layer_type','config_type','tslot','dimen','time','exp']\n",
    "        each_mdf = each_mdf.reindex(cols,axis=1)\n",
    "        if not os.path.isfile(emdf_save):\n",
    "                each_mdf.to_csv(emdf_save,header='colum_names',index=None)\n",
    "        else:\n",
    "            each_mdf.to_csv(emdf_save,mode = 'a',header=False,index=None)   \n",
    "        \n",
    "        reward = each_mdf['val_loss'].mean()\n",
    "        model_config['reward']= reward\n",
    "        model_config['time']= each_mdf['time'].mean()\n",
    "        model_config['exp']=explore\n",
    "        \n",
    "        cols = [0,1,2,'model','config','layer','reward','time','exp']\n",
    "        model_config = model_config.reindex(cols,axis=1)\n",
    "        if not os.path.isfile(his_log_save+'his'+str(window_size)+str(num_neighbors)+'.csv'):\n",
    "            model_config.to_csv(his_log_save+'his'+str(window_size)+str(num_neighbors)+'.csv',index=None,header='colum_names')\n",
    "        else:\n",
    "            model_config.to_csv(his_log_save+'his'+str(window_size)+str(num_neighbors)+'.csv',index=None,mode = 'a',header=False)   \n",
    "        \n",
    "        #update q tables \n",
    "        model_tab, model_tab_log = rl_model_search.up_model_q(reward,model_tab,model_tab_log,model_type,layer_tab,layer_type,alpha,gamma)\n",
    "        layer_tab, layer_tab_log = rl_model_search.up_layer_q(reward,layer_tab,layer_tab_log,model_type,layer_type,config_tab,config_type,alpha,gamma)\n",
    "        config_tab, config_tab_log = rl_model_search.up_config_q(reward,config_tab,config_tab_log,model_type,layer_type,config_type,alpha,gamma)\n",
    "    \n",
    "        model_tab_log.to_csv(his_log_save+'model_tab'+str(window_size)+str(num_neighbors)+'.csv',index=None)\n",
    "        layer_tab_log.to_csv(his_log_save+'layer_tab'+str(window_size)+str(num_neighbors)+'.csv',index=None)\n",
    "        config_tab_log.to_csv(his_log_save+'config_tab'+str(window_size)+str(num_neighbors)+'.csv',index=None)"
   ]
  },
  {
   "cell_type": "markdown",
   "metadata": {},
   "source": [
    "# Example of model training"
   ]
  },
  {
   "cell_type": "code",
   "execution_count": 30,
   "metadata": {},
   "outputs": [],
   "source": [
    "#Choose the best model\n",
    "df_tmp = pd.read_csv('his/demo.csv').fillna(0.0)\n",
    "df_tmp2=df_tmp.groupby(['model_type','0','1','2'])['val_loss'].mean().sort_values()[0:10]\n",
    "df_tmp2=df_tmp2.reset_index()[0:1]\n",
    "df_tmp3=df_tmp[(df_tmp['model_type']==df_tmp2['model_type'].values[0])&(df_tmp['0']==df_tmp2['0'].values[0])]\n",
    "df_tmp3=df_tmp3[0:1]\n",
    "model_config = df_tmp3\n",
    "model_config.columns = [0, 1, 2,'model','val_loss']"
   ]
  },
  {
   "cell_type": "code",
   "execution_count": 47,
   "metadata": {},
   "outputs": [],
   "source": [
    "#get the data to train and validate\n",
    "features_cols = get_features_list(features)\n",
    "target_label = get_features_list(target)\n",
    "model_list = get_features_list(model_l)\n",
    "\n",
    "find_mem_from = 'group'\n",
    "find_mem_basedon = '20'\n",
    "sequence_by  = 'dayofyear'\n",
    "\n",
    "window_size = 3\n",
    "num_neighbors = 1\n",
    "input_shape = [window_size,len(features_cols)*num_neighbors]\n",
    "output_shape = 1\n",
    "\n",
    "output_act ='relu'\n",
    "loss_tmp = 'mse'\n",
    "metrics = ['loss']\n",
    "\n",
    "\n",
    "verbose, epochs, batch_size = 0, 500, 500\n",
    "\n",
    "\n",
    "x_train = []\n",
    "y_train = []\n",
    "data_set = ['2015']    \n",
    "num_xsamples = 0\n",
    "num_ysamples = 0\n",
    "for data in data_set:\n",
    "    df_data = pd.read_csv('dataset/'+data+'.csv')\n",
    "    x_train_tmp, y_train_tmp = pre_process.get_train_data(df_data,find_mem_from,find_mem_basedon,sequence_by,window_size,num_neighbors,features_cols,target_label)\n",
    "    \n",
    "    x_train.append(x_train_tmp)\n",
    "    y_train.append(y_train_tmp)\n",
    "    \n",
    "for i in range(len(x_train)):\n",
    "    num_xsamples += len(x_train[i])\n",
    "    num_ysamples += len(y_train[i])\n",
    "\n",
    "x_train = np.reshape(x_train,(num_xsamples,window_size,len(features_cols)*num_neighbors))\n",
    "y_train = np.reshape(y_train,(num_ysamples,1))\n",
    "\n",
    "df_data = pd.read_csv('dataset/2016.csv')\n",
    "x_val, y_val = pre_process.get_train_data(df_data,find_mem_from,find_mem_basedon,sequence_by,window_size,num_neighbors,features_cols,target_label)\n"
   ]
  },
  {
   "cell_type": "code",
   "execution_count": 48,
   "metadata": {},
   "outputs": [],
   "source": [
    "model = model_dict.get_explored_prediction_model(input_shape, output_shape, model_config, output_act, loss_tmp, metrics=['loss'])\n",
    "\n",
    "history = model.fit(x_train.reshape(x_train.shape[0],window_size,len(features_cols)), \n",
    "                    y_train, epochs=epochs, \n",
    "                    batch_size=batch_size, \n",
    "                    verbose=verbose,\n",
    "                   validation_data=(x_val.reshape(x_val.shape[0],window_size,len(features_cols)), y_val)\n",
    "                   )"
   ]
  },
  {
   "cell_type": "code",
   "execution_count": 49,
   "metadata": {},
   "outputs": [
    {
     "data": {
      "image/png": "[encoded data removed]",
      "text/plain": [
       "<Figure size 432x288 with 1 Axes>"
      ]
     },
     "metadata": {},
     "output_type": "display_data"
    }
   ],
   "source": [
    "sns.set_style(\"whitegrid\", {'grid.linestyle': '--'})\n",
    "plt.plot(history.history['loss'],label = 'Training Loss')\n",
    "plt.plot(history.history['val_loss'], label ='Validation Loss')\n",
    "plt.legend()\n",
    "_ = plt.xlabel('Iterations',fontsize=(15))\n",
    "_ = plt.ylabel('Average loss',fontsize=(15))"
   ]
  }
 ],
 "metadata": {
  "kernelspec": {
   "display_name": "Python 3",
   "language": "python",
   "name": "python3"
  },
  "language_info": {
   "codemirror_mode": {
    "name": "ipython",
    "version": 3
   },
   "file_extension": ".py",
   "mimetype": "text/x-python",
   "name": "python",
   "nbconvert_exporter": "python",
   "pygments_lexer": "ipython3",
   "version": "3.5.2"
  }
 },
 "nbformat": 4,
 "nbformat_minor": 2
}
